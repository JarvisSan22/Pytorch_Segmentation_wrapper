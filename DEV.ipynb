{
 "cells": [
  {
   "cell_type": "code",
   "execution_count": 2,
   "metadata": {},
   "outputs": [
    {
     "name": "stdout",
     "output_type": "stream",
     "text": [
      "The autoreload extension is already loaded. To reload it, use:\n",
      "  %reload_ext autoreload\n"
     ]
    }
   ],
   "source": [
    "%load_ext autoreload\n",
    "%autoreload 2"
   ]
  },
  {
   "cell_type": "code",
   "execution_count": 3,
   "metadata": {},
   "outputs": [],
   "source": [
    "#!conda install pytorch torchvision torchaudio pytorch-cuda=12.1 -c pytorch -c nvidia\n"
   ]
  },
  {
   "cell_type": "code",
   "execution_count": 4,
   "metadata": {},
   "outputs": [
    {
     "name": "stdout",
     "output_type": "stream",
     "text": [
      "2.6.0+cpu\n",
      "False\n",
      "None\n",
      "True\n",
      "{'train_image_dir': None, 'train_mask_dir': None, 'val_image_dir': None, 'val_mask_dir': None, 'out_dir': None, 'out_model_name': None, 'log_dir': None, 'classes': 4, 'classes_names': ['background', 'trees', 'buildings', 'roads'], 'encoder': {'name': 'resnet34', 'weights': 'imagenet', 'in_channels': 3, 'out_channels': 1}, 'decoder': {'name': 'unet', 'in_channels': 3}, 'learning_rate': '1e-4', 'lr_schedule': 'cosine', 'batch_size': 142, 'epochs': 100, 'num_workers': 4, 'train_args': {'HorizontalFlip': 0.5, 'ShiftScaleRotate': {'scale_limit': 0.5, 'rotate_limit': 0, 'shift_limit': 0.1, 'p': 1, 'border_mode': 0}, 'PadIfNeeded': {'min_height': 256, 'min_width': 256, 'always_apply': True, 'border_mode': 0}, 'OneOf_CLAHE_Brightness_Gamma': 0.9, 'OneOf_Sharpen_Blur': 0.9, 'OneOf_HueSaturation': 0.9}, 'validation_args': {'PadIfNeeded': {'min_height': 256, 'min_width': 256, 'always_apply': True, 'border_mode': 0}}}\n",
      "No GPU detected.\n"
     ]
    }
   ],
   "source": [
    "import yaml \n",
    "import os \n",
    "import torch\n",
    "\n",
    "print(torch.__version__)  # Check PyTorch version\n",
    "print(torch.cuda.is_available())  # Check if CUDA is available\n",
    "print(torch.version.cuda)  # Check CUDA version\n",
    "print(torch.backends.cudnn.enabled)  # Check if cuDNN is enabled\n",
    "\n",
    "\n",
    "with open(\"config/train_t1.yaml\", \"r\") as f:\n",
    "    config = yaml.safe_load(f)\n",
    "print(config)\n",
    "\n",
    "TENSORCORE=False\n",
    "if torch.cuda.is_available():\n",
    "    gpu_name = torch.cuda.get_device_name(0)\n",
    "    print(f\"GPU: {gpu_name}\")\n",
    "\n",
    "    # Check compute capability\n",
    "    compute_capability = torch.cuda.get_device_properties(0).major\n",
    "    if compute_capability >= 7:  # Tensor Cores require compute capability 7.0+\n",
    "        print(\"This GPU supports Tensor Cores.\")\n",
    "        TENSORCORE=True\n",
    "    else:\n",
    "        print(\"This GPU does not support Tensor Cores.\")\n",
    "else:\n",
    "    print(\"No GPU detected.\")\n",
    "\n",
    "DEVICE = torch.device('cuda:0') if torch.cuda.is_available() else torch.device('cpu')"
   ]
  },
  {
   "cell_type": "code",
   "execution_count": 5,
   "metadata": {},
   "outputs": [],
   "source": [
    "base_dir = \"D:\\DATA\\landcover.ai.v1\\output\"\n",
    "\n",
    "config[\"train_image_dir\"] = os.path.join(base_dir, \"train\",\"img\")\n",
    "config[\"train_mask_dir\"] = os.path.join(base_dir, \"train\",\"mask\")\n",
    "config[\"val_image_dir\"] = os.path.join(base_dir, \"val\",\"img\")\n",
    "config[\"val_mask_dir\"] = os.path.join(base_dir, \"val\",\"mask\")\n",
    "config[\"test_image_dir\"] = os.path.join(base_dir, \"test\",\"img\")\n",
    "config[\"test_mask_dir\"] = os.path.join(base_dir, \"test\",\"mask\")\n",
    "\n",
    "config[\"out_dir\"] = os.path.join(\"output\",\"landcover\",\"models\")\n",
    "config[\"log_dir\"] = os.path.join( \"outputs\",\"landcover\",\"logs\")\n",
    "os.makedirs(config[\"out_dir\"], exist_ok=True)\n",
    "os.makedirs(config[\"log_dir\"], exist_ok=True)\n",
    "\n",
    "config[\"out_model_name\"] = f'{config[\"decoder\"][\"name\"]}_{config[\"encoder\"][\"name\"]}_256_256_4_{config[\"learning_rate\"]}_{config[\"lr_schedule\"]}_142_100_4'"
   ]
  },
  {
   "cell_type": "code",
   "execution_count": 6,
   "metadata": {},
   "outputs": [
    {
     "name": "stderr",
     "output_type": "stream",
     "text": [
      "c:\\Users\\jarvi\\Documents\\GIT\\segmentation\\.conda\\Lib\\site-packages\\tqdm\\auto.py:21: TqdmWarning: IProgress not found. Please update jupyter and ipywidgets. See https://ipywidgets.readthedocs.io/en/stable/user_install.html\n",
      "  from .autonotebook import tqdm as notebook_tqdm\n",
      "c:\\Users\\jarvi\\Documents\\GIT\\segmentation\\.conda\\Lib\\site-packages\\albumentations\\core\\validation.py:45: UserWarning: ShiftScaleRotate is a special case of Affine transform. Please use Affine transform instead.\n",
      "  original_init(self, **validated_kwargs)\n",
      "c:\\Users\\jarvi\\Documents\\GIT\\segmentation\\src\\args.py:15: UserWarning: Argument 'always_apply' is not valid and will be ignored.\n",
      "  train_transform.append(albu.PadIfNeeded(**config[\"PadIfNeeded\"]))\n"
     ]
    }
   ],
   "source": [
    "from src.dataset import Dataset\n",
    "from src.args import get_augmentation,get_preprocessing\n",
    "\n",
    "\n",
    "x_train_dir = config[\"train_image_dir\"]\n",
    "y_train_dir = config[\"train_mask_dir\"]\n",
    "\n",
    "x_valid_dir = config[\"val_image_dir\"]\n",
    "y_valid_dir = config[\"val_mask_dir\"]\n",
    "\n",
    "ENCODER=config[\"encoder\"][\"name\"]\n",
    "ENCODER_WEIGHTS=config[\"encoder\"][\"weights\"]\n",
    "\n",
    "\n",
    "get_preprocessing\n",
    "train_dataset = Dataset(\n",
    "    x_train_dir,\n",
    "    y_train_dir,\n",
    "    augmentation=get_augmentation(config[\"train_args\"]),\n",
    "    preprocessing=get_preprocessing(ENCODER,ENCODER_WEIGHTS),\n",
    "    DEVICE=DEVICE\n",
    ")\n",
    "\n",
    "valid_dataset = Dataset(\n",
    "    x_valid_dir,\n",
    "    y_valid_dir,\n",
    "    augmentation=get_augmentation(config[\"validation_args\"]),\n",
    "    preprocessing=get_preprocessing(ENCODER,ENCODER_WEIGHTS),\n",
    "    DEVICE=DEVICE\n",
    ")\n"
   ]
  },
  {
   "cell_type": "code",
   "execution_count": 8,
   "metadata": {},
   "outputs": [
    {
     "ename": "AttributeError",
     "evalue": "'Dataset' object has no attribute 'DEVICE'",
     "output_type": "error",
     "traceback": [
      "\u001b[1;31m---------------------------------------------------------------------------\u001b[0m",
      "\u001b[1;31mAttributeError\u001b[0m                            Traceback (most recent call last)",
      "Cell \u001b[1;32mIn[8], line 5\u001b[0m\n\u001b[0;32m      2\u001b[0m \u001b[38;5;28;01mimport\u001b[39;00m\u001b[38;5;250m \u001b[39m\u001b[38;5;21;01mnumpy\u001b[39;00m\u001b[38;5;250m \u001b[39m\u001b[38;5;28;01mas\u001b[39;00m\u001b[38;5;250m \u001b[39m\u001b[38;5;21;01mnp\u001b[39;00m \n\u001b[0;32m      4\u001b[0m \u001b[38;5;28;01mfor\u001b[39;00m i \u001b[38;5;129;01min\u001b[39;00m \u001b[38;5;28mrange\u001b[39m(\u001b[38;5;241m3\u001b[39m):\n\u001b[1;32m----> 5\u001b[0m     image, mask \u001b[38;5;241m=\u001b[39m \u001b[43mtrain_dataset\u001b[49m\u001b[43m[\u001b[49m\u001b[43mnp\u001b[49m\u001b[38;5;241;43m.\u001b[39;49m\u001b[43mrandom\u001b[49m\u001b[38;5;241;43m.\u001b[39;49m\u001b[43mrandint\u001b[49m\u001b[43m(\u001b[49m\u001b[38;5;241;43m0\u001b[39;49m\u001b[43m,\u001b[49m\u001b[43mtrain_dataset\u001b[49m\u001b[38;5;241;43m.\u001b[39;49m\u001b[38;5;21;43m__len__\u001b[39;49m\u001b[43m(\u001b[49m\u001b[43m)\u001b[49m\u001b[43m)\u001b[49m\u001b[43m]\u001b[49m\n\u001b[0;32m      6\u001b[0m     visualize(\n\u001b[0;32m      7\u001b[0m         image\u001b[38;5;241m=\u001b[39mimage\u001b[38;5;241m.\u001b[39mto(\u001b[38;5;124m'\u001b[39m\u001b[38;5;124mcpu\u001b[39m\u001b[38;5;124m'\u001b[39m)\u001b[38;5;241m.\u001b[39mdetach()\u001b[38;5;241m.\u001b[39mnumpy()\u001b[38;5;241m.\u001b[39mcopy(), \u001b[38;5;66;03m#.transpose(1,2,0),\u001b[39;00m\n\u001b[0;32m      8\u001b[0m         mask\u001b[38;5;241m=\u001b[39mmask\u001b[38;5;241m.\u001b[39mto(\u001b[38;5;124m'\u001b[39m\u001b[38;5;124mcpu\u001b[39m\u001b[38;5;124m'\u001b[39m)\u001b[38;5;241m.\u001b[39mdetach()\u001b[38;5;241m.\u001b[39mnumpy()\u001b[38;5;241m.\u001b[39mcopy()\u001b[38;5;241m.\u001b[39mtranspose(\u001b[38;5;241m2\u001b[39m,\u001b[38;5;241m1\u001b[39m,\u001b[38;5;241m0\u001b[39m)[\u001b[38;5;241m-\u001b[39m\u001b[38;5;241m1\u001b[39m]\u001b[38;5;241m.\u001b[39mtranspose(\u001b[38;5;241m1\u001b[39m,\u001b[38;5;241m0\u001b[39m)\n\u001b[0;32m      9\u001b[0m     )\n",
      "File \u001b[1;32mc:\\Users\\jarvi\\Documents\\GIT\\segmentation\\src\\dataset.py:56\u001b[0m, in \u001b[0;36mDataset.__getitem__\u001b[1;34m(self, i)\u001b[0m\n\u001b[0;32m     52\u001b[0m     sample \u001b[38;5;241m=\u001b[39m \u001b[38;5;28mself\u001b[39m\u001b[38;5;241m.\u001b[39mpreprocessing(image\u001b[38;5;241m=\u001b[39mimage, mask\u001b[38;5;241m=\u001b[39mmask)\n\u001b[0;32m     53\u001b[0m     image, mask \u001b[38;5;241m=\u001b[39m sample[\u001b[38;5;124m'\u001b[39m\u001b[38;5;124mimage\u001b[39m\u001b[38;5;124m'\u001b[39m], sample[\u001b[38;5;124m'\u001b[39m\u001b[38;5;124mmask\u001b[39m\u001b[38;5;124m'\u001b[39m]\n\u001b[1;32m---> 56\u001b[0m image \u001b[38;5;241m=\u001b[39m torch\u001b[38;5;241m.\u001b[39mfrom_numpy(image)\u001b[38;5;241m.\u001b[39mto(\u001b[38;5;28;43mself\u001b[39;49m\u001b[38;5;241;43m.\u001b[39;49m\u001b[43mDEVICE\u001b[49m)\n\u001b[0;32m     57\u001b[0m mask \u001b[38;5;241m=\u001b[39m torch\u001b[38;5;241m.\u001b[39mfrom_numpy(mask)\u001b[38;5;241m.\u001b[39mto(\u001b[38;5;28mself\u001b[39m\u001b[38;5;241m.\u001b[39mDEVICE)\n\u001b[0;32m     59\u001b[0m \u001b[38;5;28;01mreturn\u001b[39;00m image, mask\n",
      "\u001b[1;31mAttributeError\u001b[0m: 'Dataset' object has no attribute 'DEVICE'"
     ]
    }
   ],
   "source": [
    "from src.visualize import visualize\n",
    "import numpy as np \n",
    "\n",
    "for i in range(3):\n",
    "    image, mask = train_dataset[np.random.randint(0,train_dataset.__len__())]\n",
    "    visualize(\n",
    "        image=image.to('cpu').detach().numpy().copy(), #.transpose(1,2,0),\n",
    "        mask=mask.to('cpu').detach().numpy().copy().transpose(2,1,0)[-1].transpose(1,0)\n",
    "    )"
   ]
  },
  {
   "cell_type": "code",
   "execution_count": 7,
   "metadata": {},
   "outputs": [
    {
     "name": "stdout",
     "output_type": "stream",
     "text": [
      "Collecting matplotlib\n",
      "  Downloading matplotlib-3.10.0-cp311-cp311-win_amd64.whl.metadata (11 kB)\n",
      "Collecting contourpy>=1.0.1 (from matplotlib)\n",
      "  Downloading contourpy-1.3.1-cp311-cp311-win_amd64.whl.metadata (5.4 kB)\n",
      "Collecting cycler>=0.10 (from matplotlib)\n",
      "  Using cached cycler-0.12.1-py3-none-any.whl.metadata (3.8 kB)\n",
      "Collecting fonttools>=4.22.0 (from matplotlib)\n",
      "  Downloading fonttools-4.55.8-cp311-cp311-win_amd64.whl.metadata (103 kB)\n",
      "Collecting kiwisolver>=1.3.1 (from matplotlib)\n",
      "  Downloading kiwisolver-1.4.8-cp311-cp311-win_amd64.whl.metadata (6.3 kB)\n",
      "Requirement already satisfied: numpy>=1.23 in c:\\users\\jarvi\\documents\\git\\segmentation\\.conda\\lib\\site-packages (from matplotlib) (2.2.2)\n",
      "Requirement already satisfied: packaging>=20.0 in c:\\users\\jarvi\\documents\\git\\segmentation\\.conda\\lib\\site-packages (from matplotlib) (24.2)\n",
      "Requirement already satisfied: pillow>=8 in c:\\users\\jarvi\\documents\\git\\segmentation\\.conda\\lib\\site-packages (from matplotlib) (11.1.0)\n",
      "Collecting pyparsing>=2.3.1 (from matplotlib)\n",
      "  Downloading pyparsing-3.2.1-py3-none-any.whl.metadata (5.0 kB)\n",
      "Requirement already satisfied: python-dateutil>=2.7 in c:\\users\\jarvi\\documents\\git\\segmentation\\.conda\\lib\\site-packages (from matplotlib) (2.9.0.post0)\n",
      "Requirement already satisfied: six>=1.5 in c:\\users\\jarvi\\documents\\git\\segmentation\\.conda\\lib\\site-packages (from python-dateutil>=2.7->matplotlib) (1.17.0)\n",
      "Downloading matplotlib-3.10.0-cp311-cp311-win_amd64.whl (8.0 MB)\n",
      "   ---------------------------------------- 0.0/8.0 MB ? eta -:--:--\n",
      "   ------ --------------------------------- 1.3/8.0 MB 7.4 MB/s eta 0:00:01\n",
      "   ------------------- -------------------- 3.9/8.0 MB 10.7 MB/s eta 0:00:01\n",
      "   ------------------------------------- -- 7.6/8.0 MB 13.4 MB/s eta 0:00:01\n",
      "   ---------------------------------------- 8.0/8.0 MB 11.8 MB/s eta 0:00:00\n",
      "Downloading contourpy-1.3.1-cp311-cp311-win_amd64.whl (219 kB)\n",
      "Using cached cycler-0.12.1-py3-none-any.whl (8.3 kB)\n",
      "Downloading fonttools-4.55.8-cp311-cp311-win_amd64.whl (2.2 MB)\n",
      "   ---------------------------------------- 0.0/2.2 MB ? eta -:--:--\n",
      "   ---------------------------------------- 2.2/2.2 MB 20.6 MB/s eta 0:00:00\n",
      "Downloading kiwisolver-1.4.8-cp311-cp311-win_amd64.whl (71 kB)\n",
      "Downloading pyparsing-3.2.1-py3-none-any.whl (107 kB)\n",
      "Installing collected packages: pyparsing, kiwisolver, fonttools, cycler, contourpy, matplotlib\n",
      "Successfully installed contourpy-1.3.1 cycler-0.12.1 fonttools-4.55.8 kiwisolver-1.4.8 matplotlib-3.10.0 pyparsing-3.2.1\n"
     ]
    }
   ],
   "source": [
    "!pip install matplotlib"
   ]
  },
  {
   "cell_type": "code",
   "execution_count": null,
   "metadata": {},
   "outputs": [],
   "source": []
  }
 ],
 "metadata": {
  "kernelspec": {
   "display_name": "Python 3",
   "language": "python",
   "name": "python3"
  },
  "language_info": {
   "codemirror_mode": {
    "name": "ipython",
    "version": 3
   },
   "file_extension": ".py",
   "mimetype": "text/x-python",
   "name": "python",
   "nbconvert_exporter": "python",
   "pygments_lexer": "ipython3",
   "version": "3.11.11"
  }
 },
 "nbformat": 4,
 "nbformat_minor": 2
}
